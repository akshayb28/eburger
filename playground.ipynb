{
 "cells": [
  {
   "cell_type": "code",
   "execution_count": 2,
   "metadata": {},
   "outputs": [
    {
     "name": "stdout",
     "output_type": "stream",
     "text": [
      "[\u001b[38;5;69m ❗️Low \u001b[39m] Missing Reentracy Guard at:\n",
      "    /Users/test/Desktop/eburger/vulnerable_contracts/missing_reentrancy_guard/src/missing_reentrancy_guard.sol:12:5-33\n",
      "[\u001b[38;5;79m 🍔 Success \u001b[39m] Results saved to /Users/test/Desktop/eburger/vulnerable_contracts/missing_reentrancy_guard/eburger-output.json\n"
     ]
    }
   ],
   "source": [
    "\"\"\"\n",
    "    Test or write eburger YAML templates in your browser!\n",
    "    Setup an eburger jupyer notebook here: https://mybinder.org/v2/gh/forefy/eburger/main?labpath=playground.ipynb\n",
    "    Takes ~1 minute to load\n",
    "    Unstable, but free :) you can run playground.ipynb locally for the same results, or just run your templates with `eburger -t myfile.yaml`\n",
    "\"\"\"\n",
    "\n",
    "from pathlib import Path\n",
    "\n",
    "from eburger import settings\n",
    "from eburger.main import main\n",
    "from eburger.utils.cli_args import args\n",
    "\n",
    "original_project_root = settings.project_root\n",
    "\n",
    "# Contract to scan - several examples are already available within the notebook\n",
    "args.solidity_file_or_folder = str(\n",
    "    Path(\"vulnerable_contracts\", \"missing_reentrancy_guard/\")\n",
    ")\n",
    "\n",
    "# YAML template - change the template to see different results!\n",
    "args.template_paths = [\"eburger/templates/missing_reentrancy_guard.yaml\"]\n",
    "# args.template_paths = [\"create_me.yaml\"] # another example\n",
    "\n",
    "args.no = [\"info\"]  # untoggle for Info type output\n",
    "main()\n",
    "\n",
    "# Cleanup important global settings\n",
    "args.solidity_file_or_folder = None\n",
    "settings.project_root = original_project_root"
   ]
  }
 ],
 "metadata": {
  "kernelspec": {
   "display_name": ".venv",
   "language": "python",
   "name": "python3"
  },
  "language_info": {
   "codemirror_mode": {
    "name": "ipython",
    "version": 3
   },
   "file_extension": ".py",
   "mimetype": "text/x-python",
   "name": "python",
   "nbconvert_exporter": "python",
   "pygments_lexer": "ipython3",
   "version": "3.11.7"
  }
 },
 "nbformat": 4,
 "nbformat_minor": 2
}
